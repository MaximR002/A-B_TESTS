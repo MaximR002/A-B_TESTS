{
  "nbformat": 4,
  "nbformat_minor": 0,
  "metadata": {
    "colab": {
      "provenance": [],
      "authorship_tag": "ABX9TyNhk+OT+cTXvFWz583WZIOf",
      "include_colab_link": true
    },
    "kernelspec": {
      "name": "python3",
      "display_name": "Python 3"
    },
    "language_info": {
      "name": "python"
    }
  },
  "cells": [
    {
      "cell_type": "markdown",
      "metadata": {
        "id": "view-in-github",
        "colab_type": "text"
      },
      "source": [
        "<a href=\"https://colab.research.google.com/github/MaximR002/a-b_tests/blob/main/A%7CB_test_with_average_user_metrics.ipynb\" target=\"_parent\"><img src=\"https://colab.research.google.com/assets/colab-badge.svg\" alt=\"Open In Colab\"/></a>"
      ]
    },
    {
      "cell_type": "markdown",
      "source": [
        "#Average user metrics - Средние метрики пользователей. Численные сигналы, например, среднее число добавленных товаров в корзину на юзера или ARPU.\n"
      ],
      "metadata": {
        "id": "oHEAOiR5xQ8l"
      }
    },
    {
      "cell_type": "markdown",
      "source": [
        "##Разберем дизайн A|B теста на примере ARPU(Average revenue per user).\n",
        "##Предположим, что мы придумали какую-то фичу, которая должно увеличить ARPU.\n",
        "##Импортируем необходимые библиотеки, для работы с данными и статистикой"
      ],
      "metadata": {
        "id": "KjIt0fgcxb2f"
      }
    },
    {
      "cell_type": "code",
      "execution_count": 2,
      "metadata": {
        "id": "je4rTQajf2TD"
      },
      "outputs": [],
      "source": [
        "import numpy as np\n",
        "import pandas as pd\n",
        "import scipy as s"
      ]
    },
    {
      "cell_type": "markdown",
      "source": [
        "##Создадим генератор выборок"
      ],
      "metadata": {
        "id": "Pl-JuBFnymgm"
      }
    },
    {
      "cell_type": "code",
      "source": [
        "def generate_arpu_sample(num_users, avg_revenue_per_user, std_dev_revenue_per_user):\n",
        "    \"\"\"\n",
        "    Генерирует выборку пользователей с заданными параметрами дохода.\n",
        "\n",
        "    Параметры:\n",
        "    num_users (int): Количество пользователей в выборке.\n",
        "    avg_revenue_per_user (float): Средний доход на пользователя.\n",
        "    std_dev_revenue_per_user (float): Стандартное отклонение дохода на пользователя.\n",
        "\n",
        "    Возвращает:\n",
        "    numpy.array: Массив доходов пользователей.\n",
        "    \"\"\"\n",
        "    # Генерация выборки доходов на пользователя с нормальным распределением\n",
        "    revenue_per_user = np.random.normal(avg_revenue_per_user, std_dev_revenue_per_user, num_users)\n",
        "\n",
        "    return revenue_per_user"
      ],
      "metadata": {
        "id": "eRm9UqMS3YV1"
      },
      "execution_count": 3,
      "outputs": []
    },
    {
      "cell_type": "code",
      "source": [
        "group_a = generate_arpu_sample(1000, 10, 5)\n",
        "group_b = generate_arpu_sample(1000, 10, 5)"
      ],
      "metadata": {
        "id": "0LDqdKaW3bcN"
      },
      "execution_count": 4,
      "outputs": []
    },
    {
      "cell_type": "markdown",
      "source": [
        "##Проведем А/А тест, для того чтобы проверить одинаковость групп.\n",
        "##А также посмотрим на стандартные отклонения и выборочные средние."
      ],
      "metadata": {
        "id": "CkCijtAc7s1q"
      }
    },
    {
      "cell_type": "code",
      "source": [
        "print(f'Стандартное отклонение в контрольной группе: {group_a.std()}')\n",
        "print(f'Стандартное отклонение в тестовой группе: {group_b.std()}')"
      ],
      "metadata": {
        "colab": {
          "base_uri": "https://localhost:8080/"
        },
        "id": "X9FxUClj7sP-",
        "outputId": "56a56076-bbd3-4f7f-a6a3-7b026c1113b7"
      },
      "execution_count": 5,
      "outputs": [
        {
          "output_type": "stream",
          "name": "stdout",
          "text": [
            "Стандартное отклонение в контрольной группе: 4.885598680644524\n",
            "Стандартное отклонение в тестовой группе: 5.096364075603585\n"
          ]
        }
      ]
    },
    {
      "cell_type": "code",
      "source": [
        "print(f'Среднее значение в контрольной группе: {group_a.mean()}')\n",
        "print(f'Среднее значение в тестовой группе: {group_b.mean()}')"
      ],
      "metadata": {
        "colab": {
          "base_uri": "https://localhost:8080/"
        },
        "id": "MQpJT3WG84Gn",
        "outputId": "4459cb88-6526-48fa-b5cb-4b0e6f8c7f31"
      },
      "execution_count": 6,
      "outputs": [
        {
          "output_type": "stream",
          "name": "stdout",
          "text": [
            "Среднее значение в контрольной группе: 9.804916849551724\n",
            "Среднее значение в тестовой группе: 10.032484324786964\n"
          ]
        }
      ]
    },
    {
      "cell_type": "markdown",
      "source": [
        "##Будем проверять различие между группами при вероятности ошибки первого рода на уровне 0.05"
      ],
      "metadata": {
        "id": "YE0SRfmo9hoC"
      }
    },
    {
      "cell_type": "code",
      "source": [
        "from scipy.stats import ttest_ind\n",
        "\n",
        "t_statistic, p_value = ttest_ind(group_a, group_b)\n",
        "\n",
        "print(\"Значение t-статистики:\", t_statistic)\n",
        "print(\"p-значение:\", p_value)"
      ],
      "metadata": {
        "colab": {
          "base_uri": "https://localhost:8080/"
        },
        "id": "qY6O0rdF9T0_",
        "outputId": "b21766cd-cdee-43db-a60f-25c7409f5162"
      },
      "execution_count": 7,
      "outputs": [
        {
          "output_type": "stream",
          "name": "stdout",
          "text": [
            "Значение t-статистики: -1.0188146926267951\n",
            "p-значение: 0.30841429652854896\n"
          ]
        }
      ]
    },
    {
      "cell_type": "markdown",
      "source": [
        "##Т.к. p-значение больше 0.05 => у нас недостаточно доказательств, чтобы отклонить нулевую гипотезу => различия в средних в групп не стат.значимы."
      ],
      "metadata": {
        "id": "Lj8YVUmC9ejD"
      }
    },
    {
      "cell_type": "markdown",
      "source": [
        "## Так же построим 95% - доверительный интервал, для обеих выборок, чтобы найти пересечения и удостовериться, что выборки одинаковы и мы можем использовать их для А/Б эксперимента."
      ],
      "metadata": {
        "id": "eckpXP-N-cGa"
      }
    },
    {
      "cell_type": "code",
      "source": [
        "def bootstrap_samples(count_samples, group):\n",
        "  bootstrap_stat = []\n",
        "  for i in range(count_samples):\n",
        "    bootstrap_sample = np.random.choice(group, size=len(group), replace=True)\n",
        "    bootstrap_stat.append(np.mean(bootstrap_sample))\n",
        "  return np.percentile(bootstrap_stat, [2.5, 97.5])"
      ],
      "metadata": {
        "id": "pgD2PSky-bc_"
      },
      "execution_count": 8,
      "outputs": []
    },
    {
      "cell_type": "code",
      "source": [
        "print(f'Доверительныый интервал для контрольной группы: {bootstrap_samples(10000, group_a)}')\n",
        "print(f'Доверительныый интервал для тестовой группы: {bootstrap_samples(10000, group_b)}')"
      ],
      "metadata": {
        "colab": {
          "base_uri": "https://localhost:8080/"
        },
        "id": "uTOcfKoO-Neu",
        "outputId": "76cccb2b-9463-4de8-ca96-7f26c344e509"
      },
      "execution_count": 9,
      "outputs": [
        {
          "output_type": "stream",
          "name": "stdout",
          "text": [
            "Доверительныый интервал для контрольной группы: [ 9.50405735 10.10873851]\n",
            "Доверительныый интервал для тестовой группы: [ 9.71777979 10.34238778]\n"
          ]
        }
      ]
    },
    {
      "cell_type": "markdown",
      "source": [
        "## Видим, что наши доверительные интервалы накладываются => различия в группах не статистически значимы"
      ],
      "metadata": {
        "id": "uzdWkNSzBOyd"
      }
    },
    {
      "cell_type": "markdown",
      "source": [
        "##Сформулируем гипотезы для А/Б теста, а также обозначим ошибку 1 рода, мощность, а также mde.\n",
        "###H0 - ARPU(контрольная) = ARPU(тестовая)\n",
        "###H1 - ARPU(контрольная) < ARPU(тестовая)\n",
        "###Ошибка 1 рода зафиксируем на уровне вероятности 0.05 (альфа)\n",
        "###Ошибка 2 рода зафиксируем на уровне вероятности 0.2 (betta)\n",
        "###Мощность теста будет соотвествено равна 1-0.2 = 0.8\n",
        "###Эффект(mde) рассчитаем, при доступных n"
      ],
      "metadata": {
        "id": "o6denjXkBpLN"
      }
    },
    {
      "cell_type": "code",
      "source": [
        "def estimate_effect_size(std, n, alpha=0.05, power=0.8):\n",
        "    \"\"\"\n",
        "    Расчет MDE для контроля/пилота 50/50, одинаковые std и n\n",
        "\n",
        "    :param std: стандартной отклонение одной группы\n",
        "    :param n: размер выбрки в одной группе\n",
        "    :return: MDE\n",
        "    \"\"\"\n",
        "    S = np.sqrt((std**2 / n) + (std**2 / n))\n",
        "    M = s.stats.norm.ppf(q=1-alpha/2) + s.stats.norm.ppf(q=power)\n",
        "    return M * S\n",
        "\n",
        "\n",
        "n = 1000\n",
        "std = 5\n",
        "mde = estimate_effect_size(std, n)"
      ],
      "metadata": {
        "id": "ezB6OHgPjpEN"
      },
      "execution_count": 10,
      "outputs": []
    },
    {
      "cell_type": "code",
      "source": [
        "print(f'Если эффект будет больше {mde}, тогда мы сможем задектировать эффект с вероятностью ошибки 1 рода и мощностью теста 0.8')"
      ],
      "metadata": {
        "colab": {
          "base_uri": "https://localhost:8080/"
        },
        "id": "eTXXehEgKDPP",
        "outputId": "f63a3262-2951-41fe-cc87-3eb0992d0b0a"
      },
      "execution_count": 11,
      "outputs": [
        {
          "output_type": "stream",
          "name": "stdout",
          "text": [
            "Если эффект будет больше 0.6264534992459172, тогда мы сможем задектировать эффект с вероятностью ошибки 1 рода и мощностью теста 0.8\n"
          ]
        }
      ]
    },
    {
      "cell_type": "markdown",
      "source": [
        "##Предположим, что наша метрика либо увеличилась, либо уменшилась на mde*1.1."
      ],
      "metadata": {
        "id": "pDy1h2xrVydy"
      }
    },
    {
      "cell_type": "code",
      "source": [
        "# Выполняем t-тест\n",
        "t_statistic, p_value = s.stats.ttest_ind(group_a, group_b-mde*1.1)\n",
        "\n",
        "# Выводим результаты\n",
        "print(\"Значение t-статистики:\", t_statistic)\n",
        "print(\"p-значение:\", p_value)"
      ],
      "metadata": {
        "colab": {
          "base_uri": "https://localhost:8080/"
        },
        "id": "2LpJg7SCx8qt",
        "outputId": "f1357dc3-3d62-4f2a-83cd-b280845939dd"
      },
      "execution_count": 12,
      "outputs": [
        {
          "output_type": "stream",
          "name": "stdout",
          "text": [
            "Значение t-статистики: 2.066266035545796\n",
            "p-значение: 0.03893197695195421\n"
          ]
        }
      ]
    },
    {
      "cell_type": "code",
      "source": [
        "# Выполняем t-тест\n",
        "t_statistic, p_value = s.stats.ttest_ind(group_a, group_b+mde*1.1)\n",
        "\n",
        "# Выводим результаты\n",
        "print(\"Значение t-статистики:\", t_statistic)\n",
        "print(\"p-значение:\", p_value)"
      ],
      "metadata": {
        "colab": {
          "base_uri": "https://localhost:8080/"
        },
        "id": "uymfB96-WH5D",
        "outputId": "e9385514-48a8-4f79-fc97-969073e34319"
      },
      "execution_count": 13,
      "outputs": [
        {
          "output_type": "stream",
          "name": "stdout",
          "text": [
            "Значение t-статистики: -4.103895420799378\n",
            "p-значение: 4.2257984364781546e-05\n"
          ]
        }
      ]
    },
    {
      "cell_type": "markdown",
      "source": [
        "##И в том и другом случае мы не можем принять нулевую гипотезу о равенсте ARPU,т.к. p-value < 0.05."
      ],
      "metadata": {
        "id": "flXFTyC2MCid"
      }
    },
    {
      "cell_type": "code",
      "source": [
        "print(f'Доверительныый интервал для контрольной группы: {bootstrap_samples(10000, group_a)}')\n",
        "print(f'Доверительныый интервал для тестовой группы: {bootstrap_samples(10000, group_b+mde*1.1)}')"
      ],
      "metadata": {
        "colab": {
          "base_uri": "https://localhost:8080/"
        },
        "id": "YVkxUNpl8it5",
        "outputId": "3933b8dd-3961-4a35-8d8a-8db1f8ad094c"
      },
      "execution_count": 14,
      "outputs": [
        {
          "output_type": "stream",
          "name": "stdout",
          "text": [
            "Доверительныый интервал для контрольной группы: [ 9.50222969 10.10461676]\n",
            "Доверительныый интервал для тестовой группы: [10.40671332 11.02987072]\n"
          ]
        }
      ]
    },
    {
      "cell_type": "code",
      "source": [
        "print(f'Доверительныый интервал для контрольной группы: {bootstrap_samples(10000, group_a)}')\n",
        "print(f'Доверительныый интервал для тестовой группы: {bootstrap_samples(10000, group_b-mde*1.1)}')"
      ],
      "metadata": {
        "colab": {
          "base_uri": "https://localhost:8080/"
        },
        "id": "QXsXaruWyCCh",
        "outputId": "7cb859c8-9106-40b2-d2e4-a5ec9725cecb"
      },
      "execution_count": 15,
      "outputs": [
        {
          "output_type": "stream",
          "name": "stdout",
          "text": [
            "Доверительныый интервал для контрольной группы: [ 9.50583348 10.10563556]\n",
            "Доверительныый интервал для тестовой группы: [9.02872654 9.65780473]\n"
          ]
        }
      ]
    },
    {
      "cell_type": "code",
      "source": [],
      "metadata": {
        "id": "6xDRHNwaWeDz"
      },
      "execution_count": null,
      "outputs": []
    }
  ]
}