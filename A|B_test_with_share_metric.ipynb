{
  "nbformat": 4,
  "nbformat_minor": 0,
  "metadata": {
    "colab": {
      "provenance": [],
      "authorship_tag": "ABX9TyPygTWSET/QkGTc2H+ZQefW",
      "include_colab_link": true
    },
    "kernelspec": {
      "name": "python3",
      "display_name": "Python 3"
    },
    "language_info": {
      "name": "python"
    }
  },
  "cells": [
    {
      "cell_type": "markdown",
      "metadata": {
        "id": "view-in-github",
        "colab_type": "text"
      },
      "source": [
        "<a href=\"https://colab.research.google.com/github/MaximR002/a-b_tests/blob/main/A%7CB_test_with_share_metric.ipynb\" target=\"_parent\"><img src=\"https://colab.research.google.com/assets/colab-badge.svg\" alt=\"Open In Colab\"/></a>"
      ]
    },
    {
      "cell_type": "markdown",
      "source": [
        "#Share metric - Доли. Бинарные сигналы, например, конверсия в покупку или retention rate."
      ],
      "metadata": {
        "id": "4t4m-s3LgO6J"
      }
    },
    {
      "cell_type": "markdown",
      "source": [
        "##Разберем дизайн A|B теста на примере конверсии в покупку.(Предположим, что мы изменили кнопку купить)\n",
        "##Импортируем необходимые библиотеки, для работы с данными и статистикой"
      ],
      "metadata": {
        "id": "xqJ-CoWkg2G_"
      }
    },
    {
      "cell_type": "code",
      "source": [
        "import numpy as np\n",
        "import pandas as pd\n",
        "import scipy as s\n",
        "import matplotlib.pyplot as plt\n"
      ],
      "metadata": {
        "id": "ByRTV5rZg1td"
      },
      "execution_count": null,
      "outputs": []
    },
    {
      "cell_type": "markdown",
      "source": [
        "##Cформулируем гипотезы, а также обозначим ошибку первого рода, мощность и минимальный эффект, который хотим задетектировать.\n",
        "###H0 - конверсия в контрольной группе = конверсии в тестовой группе\n",
        "###H1 - конверсия в тестовой группе < конверсия в контрольной группе\n",
        "#### Ошибку первого рода установим на уровне - 0.05 (alpha)\n",
        "#### Ошибку второго рода установим на уровне - 0.1 (beta)\n",
        "#### Мощность соответственно равна 1 - beta = 0.9\n",
        "#### Эффект, который мы хотим задетектировать, на основе прошлых данных = 0.1(mde)"
      ],
      "metadata": {
        "id": "FbizO71Hvv2c"
      }
    },
    {
      "cell_type": "code",
      "source": [],
      "metadata": {
        "id": "H2OfVKOVvvV6"
      },
      "execution_count": null,
      "outputs": []
    },
    {
      "cell_type": "markdown",
      "source": [
        "##Создадим функцию, которая поможет нам оценивать размер выборки при необходимом эффекте, уровне ошибки первого и мощности."
      ],
      "metadata": {
        "id": "JuE3p_mwdRRa"
      }
    },
    {
      "cell_type": "code",
      "source": [
        "def calculate_sample_size(effect_size, alpha, power):\n",
        "    \"\"\"\n",
        "    Функция для расчета размера выборки для A/B-теста.\n",
        "\n",
        "    :param effect_size: размер эффекта (например, стандартизированное различие между группами)\n",
        "    :param alpha: уровень статистической значимости\n",
        "    :param power: статистическая мощность\n",
        "    :return: размер выборки для каждой группы\n",
        "    \"\"\"\n",
        "    # Используем z-значения для определения критических значений\n",
        "    z_alpha = abs(s.stats.norm.ppf(alpha / 2)) # z-значение для двусторонней альтернативы\n",
        "    z_power = abs(s.stats.norm.ppf(power))\n",
        "\n",
        "    # Расчет размера выборки\n",
        "    sample_size = ((z_alpha + z_power) ** 2) * 2 * (1 / effect_size ** 2)\n",
        "\n",
        "    return np.ceil(sample_size)"
      ],
      "metadata": {
        "id": "hBZaB4xxDdLa"
      },
      "execution_count": null,
      "outputs": []
    },
    {
      "cell_type": "code",
      "source": [
        "n_samples = calculate_sample_size(0.1, 0.05, 0.9)\n",
        "n_samples"
      ],
      "metadata": {
        "colab": {
          "base_uri": "https://localhost:8080/"
        },
        "id": "4nTR5Rd_d1Eb",
        "outputId": "18aa055d-24f7-4cc6-84f8-c7631d860e6a"
      },
      "execution_count": null,
      "outputs": [
        {
          "output_type": "execute_result",
          "data": {
            "text/plain": [
              "2102.0"
            ]
          },
          "metadata": {},
          "execution_count": 9
        }
      ]
    },
    {
      "cell_type": "markdown",
      "source": [
        "## Исходя из нашей функции видим, что для нахождения статистически значимого различия с effect_size = 0.1 между 2 группами при вероятности ошибки первого рода в 5% и вероятности ошибки второго рода в 10%, нам необходимо 2 выборки размером 2102 респондента."
      ],
      "metadata": {
        "id": "Qto9xi4deXqm"
      }
    },
    {
      "cell_type": "markdown",
      "source": [
        "##Создадим генератор выборок"
      ],
      "metadata": {
        "id": "q6pNX3IoCc1c"
      }
    },
    {
      "cell_type": "code",
      "source": [
        "def generate_samples(n_samples, conversion_rate):\n",
        "    \"\"\"\n",
        "    Генерирует выборку для конверсии в покупку.\n",
        "\n",
        "    Args:\n",
        "    - n_samples: Размер выборки.\n",
        "    - conversion_rate: Конверсионная ставка в виде доли (например, 0.05 для 5%).\n",
        "\n",
        "    Returns:\n",
        "    - samples: Массив выборки конверсии в покупку.\n",
        "    \"\"\"\n",
        "    samples = np.random.binomial(n=1, p=conversion_rate, size=n_samples)\n",
        "    return samples"
      ],
      "metadata": {
        "id": "_uLtGAAeMqwY"
      },
      "execution_count": null,
      "outputs": []
    },
    {
      "cell_type": "markdown",
      "source": [
        "##Предположим, что эти выборки мы уже обрабатываем после хода самого эксперимента"
      ],
      "metadata": {
        "id": "vIQoj2BcriVd"
      }
    },
    {
      "cell_type": "code",
      "source": [
        "group_a = generate_samples(2102, 0.5)\n",
        "group_b = generate_samples(2102, 0.6)"
      ],
      "metadata": {
        "id": "IjhYec2JCkXI"
      },
      "execution_count": null,
      "outputs": []
    },
    {
      "cell_type": "markdown",
      "source": [
        "##Посмотрим на распеределение в тестовой и контрольной группе"
      ],
      "metadata": {
        "id": "ieYIGBMdrvr8"
      }
    },
    {
      "cell_type": "code",
      "source": [
        "labels = ['Да', 'Нет']\n",
        "count_zeroes_a = len(list(filter(lambda x: x == 0, group_a)))\n",
        "count_ones_a = len(list(filter(lambda x: x == 1, group_a)))\n",
        "\n",
        "plt.bar(labels, [count_zeroes_a, count_ones_a], color=['green', 'blue'])\n",
        "plt.ylabel('Количество людей')\n",
        "plt.xlabel('Совершение покупки')\n",
        "plt.title('Контрольная группа')"
      ],
      "metadata": {
        "colab": {
          "base_uri": "https://localhost:8080/",
          "height": 489
        },
        "id": "pbkTGXpbgtJc",
        "outputId": "8dbd9e45-1376-4b13-d10f-3de097a128e9"
      },
      "execution_count": null,
      "outputs": [
        {
          "output_type": "execute_result",
          "data": {
            "text/plain": [
              "Text(0.5, 1.0, 'Контрольная группа')"
            ]
          },
          "metadata": {},
          "execution_count": 39
        },
        {
          "output_type": "display_data",
          "data": {
            "text/plain": [
              "<Figure size 640x480 with 1 Axes>"
            ],
            "image/png": "[encoded data removed]"
          },
          "metadata": {}
        }
      ]
    },
    {
      "cell_type": "code",
      "source": [
        "count_zeroes_b = len(list(filter(lambda x: x == 0, group_b)))\n",
        "count_ones_b = len(list(filter(lambda x: x == 1, group_b)))\n",
        "\n",
        "plt.bar(labels, [count_zeroes_b, count_ones_b], color=['green', 'blue'])\n",
        "plt.ylabel('Количество людей')\n",
        "plt.xlabel('Совершение покупки')\n",
        "plt.title('Тестовая группа')"
      ],
      "metadata": {
        "colab": {
          "base_uri": "https://localhost:8080/",
          "height": 489
        },
        "id": "5Yq73yHIqzkW",
        "outputId": "6932ac4e-07cc-41d6-e0f2-318e37b05f26"
      },
      "execution_count": null,
      "outputs": [
        {
          "output_type": "execute_result",
          "data": {
            "text/plain": [
              "Text(0.5, 1.0, 'Тестовая группа')"
            ]
          },
          "metadata": {},
          "execution_count": 47
        },
        {
          "output_type": "display_data",
          "data": {
            "text/plain": [
              "<Figure size 640x480 with 1 Axes>"
            ],
            "image/png": "[encoded data removed]"
          },
          "metadata": {}
        }
      ]
    },
    {
      "cell_type": "markdown",
      "source": [
        "## Заметим, что есть различия между тестовой и контрольной группой.\n",
        "## Но значимы ли они?"
      ],
      "metadata": {
        "id": "reQyeTcBr8yR"
      }
    },
    {
      "cell_type": "code",
      "source": [
        "from statsmodels.stats.proportion import proportions_ztest"
      ],
      "metadata": {
        "id": "HpTNpGPCrILJ"
      },
      "execution_count": null,
      "outputs": []
    },
    {
      "cell_type": "code",
      "source": [
        "stat, pval = proportions_ztest([count_ones_a, count_ones_b], [count_zeroes_a + count_ones_a, count_zeroes_b + count_ones_b])\n",
        "pval"
      ],
      "metadata": {
        "colab": {
          "base_uri": "https://localhost:8080/"
        },
        "id": "rR7aqNNdtr_j",
        "outputId": "8d5e5e7b-bce7-437d-ab3b-4f787d2b5052"
      },
      "execution_count": null,
      "outputs": [
        {
          "output_type": "execute_result",
          "data": {
            "text/plain": [
              "4.8139072239652714e-12"
            ]
          },
          "metadata": {},
          "execution_count": 45
        }
      ]
    },
    {
      "cell_type": "markdown",
      "source": [
        "## Мы видим, что pval намного меньше уровня вероятности 0.05, поэтому мы можем не принимать нулевую гипотезу о равенстве конверсий в тестовой и контрольной группе."
      ],
      "metadata": {
        "id": "nU6coQ7Jxmcy"
      }
    },
    {
      "cell_type": "markdown",
      "source": [
        "##Построим 95-% доверительный интервал на основе тестовой группы, чтобы понять как повлияет изменение кнопки на всю популяцию."
      ],
      "metadata": {
        "id": "Pd0lcneey59I"
      }
    },
    {
      "cell_type": "code",
      "source": [
        "def bootstrap_sample(group_b):\n",
        "    n = len(group_b)\n",
        "    indices = np.random.choice(n, n, replace=True)\n",
        "    return group_b[indices]"
      ],
      "metadata": {
        "id": "lA2XEbBQy5bY"
      },
      "execution_count": null,
      "outputs": []
    },
    {
      "cell_type": "code",
      "source": [
        "def bootstrap_proportion(group_b, num_samples=10000, confidence_level=0.95):\n",
        "    proportions = []\n",
        "    for _ in range(num_samples):\n",
        "        sample = bootstrap_sample(group_b)\n",
        "        proportion = np.mean(sample)\n",
        "        proportions.append(proportion)\n",
        "    # Вычисление доверительного интервала\n",
        "    lower_percentile = (1 - confidence_level) / 2 * 100\n",
        "    upper_percentile = 100 - lower_percentile\n",
        "    lower_bound = np.percentile(proportions, lower_percentile)\n",
        "    upper_bound = np.percentile(proportions, upper_percentile)\n",
        "    return np.mean(proportions), (lower_bound, upper_bound)"
      ],
      "metadata": {
        "id": "CLDYPwGdvMYp"
      },
      "execution_count": null,
      "outputs": []
    },
    {
      "cell_type": "code",
      "source": [
        "mean_proportion, confidence_interval = bootstrap_proportion(group_b)\n",
        "\n",
        "print(\"Оценка доли:\", mean_proportion)\n",
        "print(\"Доверительный интервал:\", confidence_interval)"
      ],
      "metadata": {
        "colab": {
          "base_uri": "https://localhost:8080/"
        },
        "id": "gYg_fk0ezxD6",
        "outputId": "b9606436-a707-45d6-f3c1-1bc311615e24"
      },
      "execution_count": null,
      "outputs": [
        {
          "output_type": "stream",
          "name": "stdout",
          "text": [
            "Оценка доли: 0.6015547573739296\n",
            "Доверительный интервал: (0.5803996194100857, 0.6217887725975262)\n"
          ]
        }
      ]
    },
    {
      "cell_type": "markdown",
      "source": [
        "### Мы видим, что при \"раскатке\" изменения кнопки на всю популяцию с вероятностью 95% изменение в целевой метрике(конверсии) будет лежать в интервале: (0.5803996194100857, 0.6217887725975262)"
      ],
      "metadata": {
        "id": "IHlBsE2N1p2a"
      }
    },
    {
      "cell_type": "code",
      "source": [],
      "metadata": {
        "id": "5oDd4u-5z1vn"
      },
      "execution_count": null,
      "outputs": []
    }
  ]
}